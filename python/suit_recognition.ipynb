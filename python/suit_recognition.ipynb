{
 "nbformat": 4,
 "nbformat_minor": 0,
 "metadata": {
  "colab": {
   "name": "suit_recognition.ipynb",
   "provenance": [],
   "collapsed_sections": []
  },
  "kernelspec": {
   "name": "python3",
   "display_name": "Python 3"
  },
  "language_info": {
   "name": "python"
  }
 },
 "cells": [
  {
   "cell_type": "code",
   "source": [
    "# Makes us able to collect data from Drive.\n",
    "from google.colab import drive\n",
    "drive.mount('/content/drive')"
   ],
   "metadata": {
    "id": "U0vSYxS9r3Fo",
    "colab": {
     "base_uri": "https://localhost:8080/"
    },
    "outputId": "eb9d27e9-ea8b-4499-b8e8-090bc39ed857"
   },
   "execution_count": null,
   "outputs": [
    {
     "output_type": "stream",
     "name": "stdout",
     "text": [
      "Drive already mounted at /content/drive; to attempt to forcibly remount, call drive.mount(\"/content/drive\", force_remount=True).\n"
     ]
    }
   ]
  },
  {
   "cell_type": "code",
   "source": [
    "%tensorflow_version 2.x"
   ],
   "metadata": {
    "id": "WSDkSydbuaec"
   },
   "execution_count": null,
   "outputs": []
  },
  {
   "cell_type": "code",
   "execution_count": null,
   "metadata": {
    "id": "eDEzoroplvNy"
   },
   "outputs": [],
   "source": [
    "import matplotlib.pyplot as plt\n",
    "import numpy as np\n",
    "import tensorflow as tf\n",
    "from keras import layers\n",
    "from keras.models import Sequential\n"
   ]
  },
  {
   "cell_type": "code",
   "source": [
    "batch_size = 16\n",
    "img_height = 37\n",
    "img_width = 30\n",
    "\n",
    "data_dir = '/content/drive/MyDrive/cropped_suit_sorted/'\n",
    "\n",
    "train_ds = tf.keras.utils.image_dataset_from_directory(\n",
    "    data_dir,\n",
    "    validation_split=0.2,\n",
    "    subset=\"training\",\n",
    "    seed=123,\n",
    "    image_size=(img_height, img_width),\n",
    "    batch_size=batch_size)\n"
   ],
   "metadata": {
    "id": "AVFPwL06vXNm",
    "colab": {
     "base_uri": "https://localhost:8080/"
    },
    "outputId": "872d1a16-1e09-4e30-e771-f16fe88b5111"
   },
   "execution_count": null,
   "outputs": [
    {
     "output_type": "stream",
     "name": "stdout",
     "text": [
      "Found 1066 files belonging to 4 classes.\n",
      "Using 853 files for training.\n"
     ]
    }
   ]
  },
  {
   "cell_type": "code",
   "source": [
    "val_ds = tf.keras.utils.image_dataset_from_directory(\n",
    "    data_dir,\n",
    "    validation_split=0.2,\n",
    "    subset=\"validation\",\n",
    "    seed=123,\n",
    "    image_size=(img_height, img_width),\n",
    "    batch_size=batch_size)"
   ],
   "metadata": {
    "colab": {
     "base_uri": "https://localhost:8080/"
    },
    "id": "SqqPIzYWxyF7",
    "outputId": "8e3147a2-e55a-478c-b49a-fac3e7c99439"
   },
   "execution_count": null,
   "outputs": [
    {
     "output_type": "stream",
     "name": "stdout",
     "text": [
      "Found 1066 files belonging to 4 classes.\n",
      "Using 213 files for validation.\n"
     ]
    }
   ]
  },
  {
   "cell_type": "code",
   "source": [
    "#See if images are there.\n",
    "plt.figure(figsize=(10, 10))\n",
    "for images, labels in train_ds.take(1):\n",
    "    for i in range(9):\n",
    "        ax = plt.subplot(3, 3, i + 1)\n",
    "        plt.imshow(images[i].numpy().astype(\"uint8\"))\n",
    "        plt.title(int(labels[i]))\n",
    "        plt.axis(\"off\")\n",
    "    break"
   ],
   "metadata": {
    "id": "GGRXoOvOwVEK",
    "colab": {
     "base_uri": "https://localhost:8080/",
     "height": 591
    },
    "outputId": "ccb908d2-33e7-43e1-850b-9cff33f79dba"
   },
   "execution_count": null,
   "outputs": [
    {
     "output_type": "display_data",
     "data": {
      "text/plain": [
       "<Figure size 720x720 with 9 Axes>"
      ],
      "image/png": "[encoded data removed]"
     },
     "metadata": {
      "needs_background": "light"
     }
    }
   ]
  },
  {
   "cell_type": "code",
   "source": [
    "class_names = ['clubs', 'diamonds', 'hearts', 'spades']"
   ],
   "metadata": {
    "id": "-JjBHupzyjT3"
   },
   "execution_count": null,
   "outputs": []
  },
  {
   "cell_type": "code",
   "source": [
    "for image_batch, labels_batch in train_ds:\n",
    "  print(image_batch.shape)\n",
    "  print(labels_batch.shape)\n",
    "  break\n"
   ],
   "metadata": {
    "colab": {
     "base_uri": "https://localhost:8080/"
    },
    "id": "ejUgSgutzKgc",
    "outputId": "ad3b5743-098e-44f4-c39f-788cd35fcf85"
   },
   "execution_count": null,
   "outputs": [
    {
     "output_type": "stream",
     "name": "stdout",
     "text": [
      "(16, 21, 15, 3)\n",
      "(16,)\n"
     ]
    }
   ]
  },
  {
   "cell_type": "code",
   "source": [
    "autotune = tf.data.AUTOTUNE\n",
    "\n",
    "train_ds = train_ds.cache().shuffle(1000).prefetch(buffer_size=autotune)\n",
    "val_ds = val_ds.cache().prefetch(buffer_size=autotune)"
   ],
   "metadata": {
    "id": "K8mr5zj9zWm6"
   },
   "execution_count": null,
   "outputs": []
  },
  {
   "cell_type": "code",
   "source": [
    "num_classes = len(class_names)\n",
    "\n",
    "model = Sequential([\n",
    "  layers.Rescaling(1./255, input_shape=(img_height,\n",
    "                                  img_width,\n",
    "                                  3)),\n",
    "  layers.Conv2D(16, 3, padding='same', activation='relu'),\n",
    "  layers.MaxPooling2D(),\n",
    "  layers.Conv2D(32, 3, padding='same', activation='relu'),\n",
    "  layers.MaxPooling2D(),\n",
    "  layers.Conv2D(64, 3, padding='same', activation='relu'),\n",
    "  layers.MaxPooling2D(),\n",
    "  layers.Flatten(),\n",
    "  layers.Dense(128, activation='relu'),\n",
    "  layers.Dense(num_classes)\n",
    "])"
   ],
   "metadata": {
    "id": "qRTVClLN0Y5E"
   },
   "execution_count": null,
   "outputs": []
  },
  {
   "cell_type": "code",
   "source": [
    "model.compile(optimizer='adam',\n",
    "              loss=tf.keras.losses.SparseCategoricalCrossentropy(from_logits=True),\n",
    "              metrics=['accuracy'])\n"
   ],
   "metadata": {
    "id": "V6SMUK5K1p1D"
   },
   "execution_count": null,
   "outputs": []
  },
  {
   "cell_type": "code",
   "source": [
    "model.summary()"
   ],
   "metadata": {
    "id": "CCaiY3692Hes",
    "colab": {
     "base_uri": "https://localhost:8080/"
    },
    "outputId": "cc165515-c3dc-41f3-e60d-2314bac8b1fb"
   },
   "execution_count": null,
   "outputs": [
    {
     "output_type": "stream",
     "name": "stdout",
     "text": [
      "Model: \"sequential_1\"\n",
      "_________________________________________________________________\n",
      " Layer (type)                Output Shape              Param #   \n",
      "=================================================================\n",
      " rescaling_1 (Rescaling)     (None, 21, 15, 3)         0         \n",
      "                                                                 \n",
      " conv2d_3 (Conv2D)           (None, 21, 15, 16)        448       \n",
      "                                                                 \n",
      " max_pooling2d_3 (MaxPooling  (None, 10, 7, 16)        0         \n",
      " 2D)                                                             \n",
      "                                                                 \n",
      " conv2d_4 (Conv2D)           (None, 10, 7, 32)         4640      \n",
      "                                                                 \n",
      " max_pooling2d_4 (MaxPooling  (None, 5, 3, 32)         0         \n",
      " 2D)                                                             \n",
      "                                                                 \n",
      " conv2d_5 (Conv2D)           (None, 5, 3, 64)          18496     \n",
      "                                                                 \n",
      " max_pooling2d_5 (MaxPooling  (None, 2, 1, 64)         0         \n",
      " 2D)                                                             \n",
      "                                                                 \n",
      " flatten_1 (Flatten)         (None, 128)               0         \n",
      "                                                                 \n",
      " dense_2 (Dense)             (None, 128)               16512     \n",
      "                                                                 \n",
      " dense_3 (Dense)             (None, 4)                 516       \n",
      "                                                                 \n",
      "=================================================================\n",
      "Total params: 40,612\n",
      "Trainable params: 40,612\n",
      "Non-trainable params: 0\n",
      "_________________________________________________________________\n"
     ]
    }
   ]
  },
  {
   "cell_type": "code",
   "source": [
    "epochs = 4\n",
    "history = model.fit(\n",
    "    train_ds,\n",
    "    validation_data=val_ds,\n",
    "    epochs=epochs\n",
    ")"
   ],
   "metadata": {
    "colab": {
     "base_uri": "https://localhost:8080/"
    },
    "id": "V7HuBD3y2TTB",
    "outputId": "13486425-ba2f-4b74-feaf-f893d2b63d50"
   },
   "execution_count": null,
   "outputs": [
    {
     "output_type": "stream",
     "name": "stdout",
     "text": [
      "Epoch 1/4\n",
      "54/54 [==============================] - 4s 32ms/step - loss: 0.8861 - accuracy: 0.6870 - val_loss: 0.5208 - val_accuracy: 0.7700\n",
      "Epoch 2/4\n",
      "54/54 [==============================] - 1s 16ms/step - loss: 0.3119 - accuracy: 0.9004 - val_loss: 0.1727 - val_accuracy: 0.9484\n",
      "Epoch 3/4\n",
      "54/54 [==============================] - 1s 16ms/step - loss: 0.1436 - accuracy: 0.9613 - val_loss: 0.1280 - val_accuracy: 0.9765\n",
      "Epoch 4/4\n",
      "54/54 [==============================] - 1s 19ms/step - loss: 0.0955 - accuracy: 0.9754 - val_loss: 0.0905 - val_accuracy: 0.9671\n"
     ]
    }
   ]
  },
  {
   "cell_type": "code",
   "source": [
    "acc = history.history['accuracy']\n",
    "val_acc = history.history['val_accuracy']\n",
    "\n",
    "loss = history.history['loss']\n",
    "val_loss = history.history['val_loss']\n",
    "\n",
    "epochs_range = range(epochs)\n",
    "\n",
    "plt.figure(figsize=(8, 8))\n",
    "plt.subplot(1, 2, 1)\n",
    "plt.plot(epochs_range, acc, label='Training Accuracy')\n",
    "plt.plot(epochs_range, val_acc, label='Validation Accuracy')\n",
    "plt.legend(loc='lower right')\n",
    "plt.title('Training and Validation Accuracy')\n",
    "\n",
    "plt.subplot(1, 2, 2)\n",
    "plt.plot(epochs_range, loss, label='Training Loss')\n",
    "plt.plot(epochs_range, val_loss, label='Validation Loss')\n",
    "plt.legend(loc='upper right')\n",
    "plt.title('Training and Validation Loss')\n",
    "plt.show()\n"
   ],
   "metadata": {
    "colab": {
     "base_uri": "https://localhost:8080/",
     "height": 499
    },
    "id": "RyLCHrUk3Hsy",
    "outputId": "0de28287-ecb9-4140-d536-e8d6514b0b8b"
   },
   "execution_count": null,
   "outputs": [
    {
     "output_type": "display_data",
     "data": {
      "text/plain": [
       "<Figure size 576x576 with 2 Axes>"
      ],
      "image/png": "[encoded data removed]"
     },
     "metadata": {
      "needs_background": "light"
     }
    }
   ]
  },
  {
   "cell_type": "code",
   "source": [
    "\n",
    "files_to_guess = ['/content/drive/MyDrive/test_images/clubs.jpg',\n",
    "                  '/content/drive/MyDrive/test_images/diamonds.jpg',\n",
    "                  '/content/drive/MyDrive/test_images/hearts.jpg',\n",
    "                  '/content/drive/MyDrive/test_images/spades.jpg']\n",
    "\n",
    "for path in files_to_guess:\n",
    "  img = tf.keras.utils.load_img(\n",
    "    path, target_size=(img_height, img_width)\n",
    "  )\n",
    "  img_array = tf.keras.utils.img_to_array(img)\n",
    "  img_array = tf.expand_dims(img_array, 0) # Create a batch\n",
    "\n",
    "  predictions = model.predict(img_array)\n",
    "  score = tf.nn.softmax(predictions[0])\n",
    "  print(path)\n",
    "  print(\n",
    "      \"This image most likely belongs to {} with a {:.2f} percent confidence.\"\n",
    "      .format(class_names[np.argmax(score)], 100 * np.max(score))\n",
    "  )\n"
   ],
   "metadata": {
    "colab": {
     "base_uri": "https://localhost:8080/"
    },
    "id": "sgJyZEuv89zK",
    "outputId": "85345c1e-e53c-407e-ee3d-da2e30198bc6"
   },
   "execution_count": null,
   "outputs": [
    {
     "output_type": "stream",
     "name": "stdout",
     "text": [
      "/content/drive/MyDrive/test_images/clubs.jpg\n",
      "This image most likely belongs to clubs with a 99.89 percent confidence.\n",
      "/content/drive/MyDrive/test_images/diamonds.jpg\n",
      "This image most likely belongs to diamonds with a 95.85 percent confidence.\n",
      "/content/drive/MyDrive/test_images/hearts.jpg\n",
      "This image most likely belongs to hearts with a 93.09 percent confidence.\n",
      "/content/drive/MyDrive/test_images/spades.jpg\n",
      "This image most likely belongs to spades with a 96.96 percent confidence.\n"
     ]
    }
   ]
  },
  {
   "cell_type": "code",
   "source": [
    "model.save(r\"/content/drive/MyDrive/CDIO F22/ML modeller/suit_model\")"
   ],
   "metadata": {
    "colab": {
     "base_uri": "https://localhost:8080/"
    },
    "id": "_h-RM6Pcpi60",
    "outputId": "9b9e92c8-3b69-4d01-b328-3065eabdbae8"
   },
   "execution_count": null,
   "outputs": [
    {
     "output_type": "stream",
     "name": "stdout",
     "text": [
      "INFO:tensorflow:Assets written to: /content/drive/MyDrive/CDIO F22/ML modeller/suit_model/assets\n"
     ]
    }
   ]
  }
 ]
}