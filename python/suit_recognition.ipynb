{
 "nbformat": 4,
 "nbformat_minor": 0,
 "metadata": {
  "colab": {
   "name": "suit_recognition.ipynb",
   "provenance": [],
   "collapsed_sections": []
  },
  "kernelspec": {
   "name": "python3",
   "display_name": "Python 3"
  },
  "language_info": {
   "name": "python"
  }
 },
 "cells": [
  {
   "cell_type": "code",
   "execution_count": 23,
   "metadata": {
    "id": "eDEzoroplvNy"
   },
   "outputs": [],
   "source": [
    "import matplotlib.pyplot as plt\n",
    "import tensorflow as tf\n",
    "import os\n",
    "import math\n",
    "import numpy as np\n",
    "from PIL import Image\n",
    "from os.path import join, isfile\n",
    "from os import listdir\n",
    "from tensorflow import lite\n",
    "from keras import layers\n",
    "from keras.models import Sequential\n"
   ]
  },
  {
   "cell_type": "code",
   "execution_count": 24,
   "outputs": [],
   "source": [
    "def zero_pad_num(num, length):\n",
    "    result_string = num.__str__() + \".jpg\"\n",
    "    pads = length - (math.log(num + 1, 10)).__int__()\n",
    "    if pads == 0:\n",
    "        return result_string\n",
    "    for j in range(pads):\n",
    "        result_string = \"0\" + result_string\n",
    "    return result_string\n",
    "\n",
    "\n",
    "def crop_images(source_path, destination_path):\n",
    "    base_path = os.getcwd()\n",
    "\n",
    "    suit_path = base_path + source_path\n",
    "    suit_dst = base_path + destination_path\n",
    "    suit_dims = 5, 58, 35, 95  # left, top, right, bottom\n",
    "\n",
    "    suit_paths = []\n",
    "    suit_labels = []\n",
    "\n",
    "    if not os.path.isdir(suit_dst):\n",
    "        os.mkdir(suit_dst)\n",
    "\n",
    "    for path_label in os.listdir(suit_path):\n",
    "        if os.path.isdir(os.path.join(suit_path, path_label)):\n",
    "            suit_paths.append(os.path.join(suit_path, path_label))\n",
    "            suit_labels.append(path_label)\n",
    "\n",
    "    for index in range(len(suit_paths)):\n",
    "        path_label = suit_paths[index]\n",
    "        onlyfiles = [join(path_label, file) for file in listdir(path_label) if\n",
    "                     isfile(join(path_label, file)) and file != \"desktop.ini\"]\n",
    "        for j in range(len(suit_labels)):\n",
    "            if not os.path.isdir(suit_dst + \"\\\\\" + suit_labels[j]):\n",
    "                os.mkdir(suit_dst + \"\\\\\" + suit_labels[j])\n",
    "\n",
    "        id_length = (math.log(len(onlyfiles), 10)).__int__()\n",
    "        for j in range(len(onlyfiles)):\n",
    "            image_to_crop = Image.open(onlyfiles[j])\n",
    "            image = image_to_crop.crop(suit_dims)\n",
    "            image.save(join(suit_dst + \"\\\\\" + suit_labels[index], zero_pad_num(j, id_length)))\n",
    "            image_to_crop.close()"
   ],
   "metadata": {
    "collapsed": false,
    "pycharm": {
     "name": "#%%\n"
    }
   }
  },
  {
   "cell_type": "code",
   "execution_count": 25,
   "outputs": [],
   "source": [
    "crop_images(\"\\\\data\\\\suit\", \"\\\\data\\\\cropped_suit\")\n"
   ],
   "metadata": {
    "collapsed": false,
    "pycharm": {
     "name": "#%%\n"
    }
   }
  },
  {
   "cell_type": "code",
   "source": [
    "batch_size = 16\n",
    "img_height = 37\n",
    "img_width = 30\n",
    "\n",
    "data_dir = os.getcwd() + \"\\\\data\\\\cropped_suit\"\n",
    "\n",
    "train_ds = tf.keras.utils.image_dataset_from_directory(\n",
    "    data_dir,\n",
    "    validation_split=0.2,\n",
    "    subset=\"training\",\n",
    "    seed=123,\n",
    "    image_size=(img_height, img_width),\n",
    "    batch_size=batch_size)\n"
   ],
   "metadata": {
    "id": "AVFPwL06vXNm",
    "colab": {
     "base_uri": "https://localhost:8080/"
    },
    "outputId": "872d1a16-1e09-4e30-e771-f16fe88b5111"
   },
   "execution_count": 26,
   "outputs": [
    {
     "name": "stdout",
     "output_type": "stream",
     "text": [
      "Found 19711 files belonging to 5 classes.\n",
      "Using 15769 files for training.\n"
     ]
    }
   ]
  },
  {
   "cell_type": "code",
   "source": [
    "val_ds = tf.keras.utils.image_dataset_from_directory(\n",
    "    data_dir,\n",
    "    validation_split=0.2,\n",
    "    subset=\"validation\",\n",
    "    seed=123,\n",
    "    image_size=(img_height, img_width),\n",
    "    batch_size=batch_size)"
   ],
   "metadata": {
    "colab": {
     "base_uri": "https://localhost:8080/"
    },
    "id": "SqqPIzYWxyF7",
    "outputId": "8e3147a2-e55a-478c-b49a-fac3e7c99439"
   },
   "execution_count": 27,
   "outputs": [
    {
     "name": "stdout",
     "output_type": "stream",
     "text": [
      "Found 19711 files belonging to 5 classes.\n",
      "Using 3942 files for validation.\n"
     ]
    }
   ]
  },
  {
   "cell_type": "code",
   "source": [
    "#See if images are there.\n",
    "plt.figure(figsize=(10, 10))\n",
    "for images, labels in train_ds.take(1):\n",
    "    for i in range(9):\n",
    "        ax = plt.subplot(3, 3, i + 1)\n",
    "        plt.imshow(images[i].numpy().astype(\"uint8\"))\n",
    "        plt.title(int(labels[i]))\n",
    "        plt.axis(\"off\")\n",
    "    break"
   ],
   "metadata": {
    "id": "GGRXoOvOwVEK",
    "colab": {
     "base_uri": "https://localhost:8080/",
     "height": 591
    },
    "outputId": "ccb908d2-33e7-43e1-850b-9cff33f79dba"
   },
   "execution_count": 28,
   "outputs": [
    {
     "data": {
      "text/plain": "<Figure size 720x720 with 9 Axes>",
      "image/png": "[encoded data removed]"
     },
     "metadata": {
      "needs_background": "light"
     },
     "output_type": "display_data"
    }
   ]
  },
  {
   "cell_type": "code",
   "source": [
    "class_names = ['na', 'clubs', 'diamonds', 'hearts', 'spades']"
   ],
   "metadata": {
    "id": "-JjBHupzyjT3"
   },
   "execution_count": 29,
   "outputs": []
  },
  {
   "cell_type": "code",
   "source": [
    "for image_batch, labels_batch in train_ds:\n",
    "    print(image_batch.shape)\n",
    "    print(labels_batch.shape)\n",
    "    break\n"
   ],
   "metadata": {
    "colab": {
     "base_uri": "https://localhost:8080/"
    },
    "id": "ejUgSgutzKgc",
    "outputId": "ad3b5743-098e-44f4-c39f-788cd35fcf85"
   },
   "execution_count": 30,
   "outputs": [
    {
     "name": "stdout",
     "output_type": "stream",
     "text": [
      "(16, 37, 30, 3)\n",
      "(16,)\n"
     ]
    }
   ]
  },
  {
   "cell_type": "code",
   "source": [
    "autotune = tf.data.AUTOTUNE\n",
    "\n",
    "train_ds = train_ds.cache().shuffle(1000).prefetch(buffer_size=autotune)\n",
    "val_ds = val_ds.cache().prefetch(buffer_size=autotune)"
   ],
   "metadata": {
    "id": "K8mr5zj9zWm6"
   },
   "execution_count": 31,
   "outputs": []
  },
  {
   "cell_type": "code",
   "source": [
    "num_classes = len(class_names)\n",
    "\n",
    "model = Sequential([\n",
    "    layers.Rescaling(1. / 255, input_shape=(img_height,\n",
    "                                            img_width,\n",
    "                                            3)),\n",
    "    layers.Conv2D(16, 3, padding='same', activation='relu'),\n",
    "    layers.MaxPooling2D(),\n",
    "    layers.Conv2D(32, 3, padding='same', activation='relu'),\n",
    "    layers.MaxPooling2D(),\n",
    "    layers.Conv2D(64, 3, padding='same', activation='relu'),\n",
    "    layers.MaxPooling2D(),\n",
    "    layers.Flatten(),\n",
    "    layers.Dense(128, activation='relu'),\n",
    "    layers.Dense(num_classes)\n",
    "])"
   ],
   "metadata": {
    "id": "qRTVClLN0Y5E"
   },
   "execution_count": 32,
   "outputs": []
  },
  {
   "cell_type": "code",
   "source": [
    "model.compile(optimizer='adam',\n",
    "              loss=tf.keras.losses.SparseCategoricalCrossentropy(from_logits=True),\n",
    "              metrics=['accuracy'])\n"
   ],
   "metadata": {
    "id": "V6SMUK5K1p1D"
   },
   "execution_count": 33,
   "outputs": []
  },
  {
   "cell_type": "code",
   "source": [
    "model.summary()"
   ],
   "metadata": {
    "id": "CCaiY3692Hes",
    "colab": {
     "base_uri": "https://localhost:8080/"
    },
    "outputId": "cc165515-c3dc-41f3-e60d-2314bac8b1fb"
   },
   "execution_count": 34,
   "outputs": [
    {
     "name": "stdout",
     "output_type": "stream",
     "text": [
      "Model: \"sequential_2\"\n",
      "_________________________________________________________________\n",
      " Layer (type)                Output Shape              Param #   \n",
      "=================================================================\n",
      " rescaling_2 (Rescaling)     (None, 37, 30, 3)         0         \n",
      "                                                                 \n",
      " conv2d_6 (Conv2D)           (None, 37, 30, 16)        448       \n",
      "                                                                 \n",
      " max_pooling2d_6 (MaxPooling  (None, 18, 15, 16)       0         \n",
      " 2D)                                                             \n",
      "                                                                 \n",
      " conv2d_7 (Conv2D)           (None, 18, 15, 32)        4640      \n",
      "                                                                 \n",
      " max_pooling2d_7 (MaxPooling  (None, 9, 7, 32)         0         \n",
      " 2D)                                                             \n",
      "                                                                 \n",
      " conv2d_8 (Conv2D)           (None, 9, 7, 64)          18496     \n",
      "                                                                 \n",
      " max_pooling2d_8 (MaxPooling  (None, 4, 3, 64)         0         \n",
      " 2D)                                                             \n",
      "                                                                 \n",
      " flatten_2 (Flatten)         (None, 768)               0         \n",
      "                                                                 \n",
      " dense_4 (Dense)             (None, 128)               98432     \n",
      "                                                                 \n",
      " dense_5 (Dense)             (None, 5)                 645       \n",
      "                                                                 \n",
      "=================================================================\n",
      "Total params: 122,661\n",
      "Trainable params: 122,661\n",
      "Non-trainable params: 0\n",
      "_________________________________________________________________\n"
     ]
    }
   ]
  },
  {
   "cell_type": "code",
   "source": [
    "epochs = 4\n",
    "history = model.fit(\n",
    "    train_ds,\n",
    "    validation_data=val_ds,\n",
    "    epochs=epochs\n",
    ")"
   ],
   "metadata": {
    "colab": {
     "base_uri": "https://localhost:8080/"
    },
    "id": "V7HuBD3y2TTB",
    "outputId": "13486425-ba2f-4b74-feaf-f893d2b63d50"
   },
   "execution_count": 35,
   "outputs": [
    {
     "name": "stdout",
     "output_type": "stream",
     "text": [
      "Epoch 1/4\n",
      "986/986 [==============================] - 23s 13ms/step - loss: 0.0849 - accuracy: 0.9685 - val_loss: 0.0069 - val_accuracy: 0.9995\n",
      "Epoch 2/4\n",
      "986/986 [==============================] - 9s 9ms/step - loss: 1.3134e-04 - accuracy: 1.0000 - val_loss: 0.0094 - val_accuracy: 0.9990\n",
      "Epoch 3/4\n",
      "986/986 [==============================] - 9s 10ms/step - loss: 1.8077e-05 - accuracy: 1.0000 - val_loss: 0.0107 - val_accuracy: 0.9990\n",
      "Epoch 4/4\n",
      "986/986 [==============================] - 9s 9ms/step - loss: 4.3893e-06 - accuracy: 1.0000 - val_loss: 0.0112 - val_accuracy: 0.9990\n"
     ]
    }
   ]
  },
  {
   "cell_type": "code",
   "source": [
    "acc = history.history['accuracy']\n",
    "val_acc = history.history['val_accuracy']\n",
    "\n",
    "loss = history.history['loss']\n",
    "val_loss = history.history['val_loss']\n",
    "\n",
    "epochs_range = range(epochs)\n",
    "\n",
    "plt.figure(figsize=(8, 8))\n",
    "plt.subplot(1, 2, 1)\n",
    "plt.plot(epochs_range, acc, label='Training Accuracy')\n",
    "plt.plot(epochs_range, val_acc, label='Validation Accuracy')\n",
    "plt.legend(loc='lower right')\n",
    "plt.title('Training and Validation Accuracy')\n",
    "\n",
    "plt.subplot(1, 2, 2)\n",
    "plt.plot(epochs_range, loss, label='Training Loss')\n",
    "plt.plot(epochs_range, val_loss, label='Validation Loss')\n",
    "plt.legend(loc='upper right')\n",
    "plt.title('Training and Validation Loss')\n",
    "plt.show()\n"
   ],
   "metadata": {
    "colab": {
     "base_uri": "https://localhost:8080/",
     "height": 499
    },
    "id": "RyLCHrUk3Hsy",
    "outputId": "0de28287-ecb9-4140-d536-e8d6514b0b8b"
   },
   "execution_count": 36,
   "outputs": [
    {
     "data": {
      "text/plain": "<Figure size 576x576 with 2 Axes>",
      "image/png": "[encoded data removed]"
     },
     "metadata": {
      "needs_background": "light"
     },
     "output_type": "display_data"
    }
   ]
  },
  {
   "cell_type": "code",
   "source": [
    "def test_model(mdl):\n",
    "    test_data = \"\\\\data\\\\test_images_suit\"\n",
    "    cropped_test_data = \"\\\\data\\\\test_images_suit_cropped\"\n",
    "    crop_images(test_data, cropped_test_data)\n",
    "    cropped_test_data = os.getcwd() + cropped_test_data\n",
    "\n",
    "    paths = []\n",
    "    path_labels = []\n",
    "\n",
    "    for path in os.listdir(cropped_test_data):\n",
    "        if os.path.isdir(os.path.join(cropped_test_data, path)):\n",
    "            paths.append(os.path.join(cropped_test_data, path))\n",
    "            path_labels.append(path)\n",
    "\n",
    "    total_predictions = 0\n",
    "    total_correct_predictions = 0\n",
    "    collected_confidences = []\n",
    "\n",
    "    for index in range(len(paths)):\n",
    "        correct_predictions = 0\n",
    "        confidences = []\n",
    "        path_label = paths[index]\n",
    "        onlyfiles = [join(path_label, file) for file in listdir(path_label) if\n",
    "                     isfile(join(path_label, file)) and file != \"desktop.ini\"]\n",
    "\n",
    "        for path in onlyfiles:\n",
    "            img = tf.keras.utils.load_img(\n",
    "                path, target_size=(img_height, img_width)\n",
    "            )\n",
    "            img_array = tf.keras.utils.img_to_array(img)\n",
    "            img_array = tf.expand_dims(img_array, 0)  # Create a batch\n",
    "\n",
    "            predictions = mdl.predict(img_array)\n",
    "            score = tf.nn.softmax(predictions[0])\n",
    "            if np.argmax(score) == index:\n",
    "                correct_predictions += 1\n",
    "                total_correct_predictions += 1\n",
    "                confidences.append(100 * np.max(score))\n",
    "                collected_confidences.append(100 * np.max(score))\n",
    "        total_predictions += len(onlyfiles)\n",
    "        print(\"{} correct predictions of suit {} out of {} predictions. Ratio: {:.2f}\".format(\n",
    "            correct_predictions,\n",
    "            path_labels[index],\n",
    "            len(onlyfiles),\n",
    "            (correct_predictions.__float__() / len(onlyfiles).__float__())\n",
    "            )\n",
    "        )\n",
    "        print(\"Confidence statistics on correct prediction ({}):\".format(path_labels[index]))\n",
    "        print(\"Minimum confidence: {:.2f}\".format(np.min(confidences)))\n",
    "        print(\"Maximum confidence: {:.2f}\".format(np.max(confidences)))\n",
    "        print(\"Average confidence: {:.2f}\".format(np.average(confidences)))\n",
    "    print(\"{} correct predictions of all {} predictions. Ratio: {:.2f}\".format(\n",
    "            total_correct_predictions,\n",
    "            total_predictions,\n",
    "            (total_correct_predictions.__float__() / total_predictions.__float__())\n",
    "            )\n",
    "        )\n",
    "    print(\"Confidence statistics on correct prediction (all ranks):\")\n",
    "    print(\"Minimum confidence: {:.2f}\".format(np.min(collected_confidences)))\n",
    "    print(\"Maximum confidence: {:.2f}\".format(np.max(collected_confidences)))\n",
    "    print(\"Average confidence: {:.2f}\".format(np.average(collected_confidences)))\n",
    "test_model(model)"
   ],
   "metadata": {
    "colab": {
     "base_uri": "https://localhost:8080/"
    },
    "id": "sgJyZEuv89zK",
    "outputId": "85345c1e-e53c-407e-ee3d-da2e30198bc6"
   },
   "execution_count": 39,
   "outputs": [
    {
     "name": "stdout",
     "output_type": "stream",
     "text": [
      "1 correct predictions of suit backside out of 1 predictions. Ratio: 1.00\n",
      "Confidence statistics on correct prediction (backside):\n",
      "Minimum confidence: 100.00\n",
      "Maximum confidence: 100.00\n",
      "Average confidence: 100.00\n",
      "325 correct predictions of suit clubs out of 325 predictions. Ratio: 1.00\n",
      "Confidence statistics on correct prediction (clubs):\n",
      "Minimum confidence: 58.93\n",
      "Maximum confidence: 100.00\n",
      "Average confidence: 99.86\n",
      "316 correct predictions of suit diamonds out of 316 predictions. Ratio: 1.00\n",
      "Confidence statistics on correct prediction (diamonds):\n",
      "Minimum confidence: 96.21\n",
      "Maximum confidence: 100.00\n",
      "Average confidence: 99.98\n",
      "325 correct predictions of suit hearts out of 325 predictions. Ratio: 1.00\n",
      "Confidence statistics on correct prediction (hearts):\n",
      "Minimum confidence: 99.96\n",
      "Maximum confidence: 100.00\n",
      "Average confidence: 100.00\n",
      "324 correct predictions of suit spades out of 325 predictions. Ratio: 1.00\n",
      "Confidence statistics on correct prediction (spades):\n",
      "Minimum confidence: 99.94\n",
      "Maximum confidence: 100.00\n",
      "Average confidence: 100.00\n",
      "1291 correct predictions of all 1292 predictions. Ratio: 1.00\n",
      "Confidence statistics on correct prediction (all ranks):\n",
      "Minimum confidence: 58.93\n",
      "Maximum confidence: 100.00\n",
      "Average confidence: 99.96\n"
     ]
    }
   ]
  },
  {
   "cell_type": "code",
   "source": [
    "model.save(os.getcwd() + \"\\\\model\\\\suit_model\")\n",
    "converter = tf.lite.TFLiteConverter.from_saved_model(os.getcwd() + \"\\\\model\\\\suit_model\")\n",
    "tflite_model = converter.convert()\n",
    "\n",
    "with open(os.getcwd() + \"\\\\model\\\\suit_model\\\\tflite_suit_model.tflite\", 'wb') as f: f.write(tflite_model)\n",
    "\n",
    "keras_file = os.getcwd() + \"\\\\model\\\\suit_model\\\\keras\\\\suit.h5\"\n",
    "tf.keras.models.save_model(model, keras_file)\n",
    "converter = lite.TFLiteConverter.from_keras_model(model)\n",
    "tfmodel = converter.convert()\n",
    "\n",
    "open(os.getcwd() + \"\\\\model\\\\suit_model\\\\keras\\\\suit.tflite\", \"wb\").write(tfmodel)"
   ],
   "metadata": {
    "colab": {
     "base_uri": "https://localhost:8080/"
    },
    "id": "_h-RM6Pcpi60",
    "outputId": "9b9e92c8-3b69-4d01-b328-3065eabdbae8"
   },
   "execution_count": 38,
   "outputs": [
    {
     "name": "stdout",
     "output_type": "stream",
     "text": [
      "INFO:tensorflow:Assets written to: C:\\Users\\ablaz\\Dropbox\\Universitet\\DTU\\F22\\62410-cdio-project\\SolitaireCDIO\\python\\model\\suit_model\\assets\n",
      "INFO:tensorflow:Assets written to: C:\\Users\\ablaz\\AppData\\Local\\Temp\\tmpevl24yv2\\assets\n"
     ]
    },
    {
     "data": {
      "text/plain": "494196"
     },
     "execution_count": 38,
     "metadata": {},
     "output_type": "execute_result"
    }
   ]
  },
  {
   "cell_type": "code",
   "execution_count": 38,
   "outputs": [],
   "source": [],
   "metadata": {
    "collapsed": false,
    "pycharm": {
     "name": "#%%\n"
    }
   }
  }
 ]
}