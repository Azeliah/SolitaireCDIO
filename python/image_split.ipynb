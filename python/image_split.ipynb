{
  "nbformat": 4,
  "nbformat_minor": 0,
  "metadata": {
    "colab": {
      "name": "image_split",
      "provenance": [],
      "collapsed_sections": []
    },
    "kernelspec": {
      "name": "python3",
      "display_name": "Python 3"
    },
    "language_info": {
      "name": "python"
    }
  },
  "cells": [
    {
      "cell_type": "code",
      "source": [
        "# Makes us able to collect data from Drive.\n",
        "from google.colab import drive\n",
        "drive.mount('/content/drive')"
      ],
      "metadata": {
        "id": "U0vSYxS9r3Fo",
        "colab": {
          "base_uri": "https://localhost:8080/"
        },
        "outputId": "1bec9901-252b-45ac-9fc0-78831ee7dd42"
      },
      "execution_count": null,
      "outputs": [
        {
          "output_type": "stream",
          "name": "stdout",
          "text": [
            "Drive already mounted at /content/drive; to attempt to forcibly remount, call drive.mount(\"/content/drive\", force_remount=True).\n"
          ]
        }
      ]
    },
    {
      "cell_type": "code",
      "execution_count": null,
      "metadata": {
        "id": "eDEzoroplvNy"
      },
      "outputs": [],
      "source": [
        "from os import listdir\n",
        "from os.path import isfile, join\n",
        "from PIL import Image\n",
        "import os\n",
        "import math\n"
      ]
    },
    {
      "cell_type": "code",
      "source": [
        "\"\"\"\n",
        "def zero_pad_num(i, length):\n",
        "  result_string = i.__str__() + \".jpg\"\n",
        "  pads = length - (math.log(i+1, 10)).__int__()\n",
        "  if pads == 0:\n",
        "    return result_string\n",
        "  for j in range(pads):\n",
        "    result_string = \"0\" + result_string\n",
        "  return result_string\n",
        "\n",
        "\n",
        "suit_path = \"/content/drive/MyDrive/suit_sorted\"\n",
        "onlyfiles = [join(mypath, f) for f in listdir(mypath) if isfile(join(mypath, f))]\n",
        "\n",
        "images = []\n",
        "for file in onlyfiles:\n",
        "  images.append(Image.open(file))\n",
        "\n",
        "id_length = (math.log(len(images), 10)).__int__()\n",
        "print(id_length)\n",
        "width, height = images[0].size\n",
        "left = 0\n",
        "top = 0\n",
        "right = width\n",
        "bottom = 24\n",
        "\n",
        "rank_path = \"/content/drive/MyDrive/rank_sorted\"\n",
        "\n",
        "for i in range(len(images)):\n",
        "  im1 = images[i].crop((left, top, right, bottom))\n",
        "  im1.save(join(rank_dst_path, zero_pad_num(i, id_length)))\n",
        "\n",
        "suit_dst_path = \"/content/drive/MyDrive/cropped_suit_unsorted\"\n",
        "\n",
        "for i in range(len(images)):\n",
        "  im1 = images[i].crop((left, bottom, width, height))\n",
        "  im1.save(join(suit_dst_path, zero_pad_num(i, id_length)))\n",
        "\n",
        "\"\"\""
      ],
      "metadata": {
        "id": "uRtaX-S_jRTI",
        "colab": {
          "base_uri": "https://localhost:8080/",
          "height": 90
        },
        "outputId": "542023e0-8b70-4c58-8f4c-b78f148ff311"
      },
      "execution_count": null,
      "outputs": [
        {
          "output_type": "execute_result",
          "data": {
            "text/plain": [
              "'\\ndef zero_pad_num(i, length):\\n  result_string = i.__str__() + \".jpg\"\\n  pads = length - (math.log(i+1, 10)).__int__()\\n  if pads == 0:\\n    return result_string\\n  for j in range(pads):\\n    result_string = \"0\" + result_string\\n  return result_string\\n\\n\\nsuit_path = \"/content/drive/MyDrive/suit_sorted\"\\nonlyfiles = [join(mypath, f) for f in listdir(mypath) if isfile(join(mypath, f))]\\n\\nimages = []\\nfor file in onlyfiles:\\n  images.append(Image.open(file))\\n\\nid_length = (math.log(len(images), 10)).__int__()\\nprint(id_length)\\nwidth, height = images[0].size\\nleft = 0\\ntop = 0\\nright = width\\nbottom = 24\\n\\nrank_path = \"/content/drive/MyDrive/rank_sorted\"\\n\\nfor i in range(len(images)):\\n  im1 = images[i].crop((left, top, right, bottom))\\n  im1.save(join(rank_dst_path, zero_pad_num(i, id_length)))\\n\\nsuit_dst_path = \"/content/drive/MyDrive/cropped_suit_unsorted\"\\n\\nfor i in range(len(images)):\\n  im1 = images[i].crop((left, bottom, width, height))\\n  im1.save(join(suit_dst_path, zero_pad_num(i, id_length)))\\n\\n'"
            ],
            "application/vnd.google.colaboratory.intrinsic+json": {
              "type": "string"
            }
          },
          "metadata": {},
          "execution_count": 19
        }
      ]
    },
    {
      "cell_type": "code",
      "source": [
        "def zero_pad_num(i, length):\n",
        "  result_string = i.__str__() + \".jpg\"\n",
        "  pads = length - (math.log(i+1, 10)).__int__()\n",
        "  if pads == 0:\n",
        "    return result_string\n",
        "  for j in range(pads):\n",
        "    result_string = \"0\" + result_string\n",
        "  return result_string\n",
        "\n",
        "suit_path = \"/content/drive/MyDrive/suit_sorted\"\n",
        "suit_dst = \"/content/drive/MyDrive/cropped_suit_sorted\"\n",
        "\n",
        "suit_dims = 0, 24, 15, 45 # left, top, right, bottom\n",
        "\n",
        "suit_paths = []\n",
        "suit_labels = []\n",
        "\n",
        "for path in os.listdir(suit_path):\n",
        "    if os.path.isdir(os.path.join(suit_path, path)):\n",
        "        suit_paths.append(os.path.join(suit_path, path))\n",
        "        suit_labels.append(path)\n",
        "\n",
        "for i in range(len(suit_paths)):\n",
        "  path = suit_paths[i]\n",
        "  onlyfiles = [join(path, f) for f in listdir(path) if isfile(join(path, f))]\n",
        "\n",
        "  images = []\n",
        "  for file in onlyfiles:\n",
        "    images.append(Image.open(file))\n",
        "  \n",
        "  id_length = (math.log(len(images), 10)).__int__()\n",
        "  for j in range(len(images)):\n",
        "    image = images[j].crop(suit_dims)\n",
        "    image.save(join(suit_dst + \"/\" + suit_labels[i], zero_pad_num(j, id_length)))\n",
        "  \n",
        "\n",
        "\n",
        "rank_path = \"/content/drive/MyDrive/rank_sorted\"\n",
        "rank_dst = \"/content/drive/MyDrive/cropped_rank_sorted\"\n",
        "rank_dims = 2, 3, 15, 28\n",
        "\n",
        "rank_paths = []\n",
        "rank_labels = []\n",
        "\n",
        "for path in os.listdir(rank_path):\n",
        "    if os.path.isdir(os.path.join(rank_path, path)):\n",
        "        rank_paths.append(os.path.join(rank_path, path))\n",
        "        rank_labels.append(path)\n",
        "\n",
        "for i in range(len(rank_paths)):\n",
        "  path = rank_paths[i]\n",
        "  onlyfiles = [join(path, f) for f in listdir(path) if isfile(join(path, f))]\n",
        "\n",
        "  images = []\n",
        "  for file in onlyfiles:\n",
        "    images.append(Image.open(file))\n",
        "  \n",
        "  id_length = (math.log(len(images), 10)).__int__()\n",
        "  for j in range(len(images)):\n",
        "    image = images[j].crop(rank_dims)\n",
        "    image.save(join(rank_dst + \"/\" + rank_labels[i], zero_pad_num(j, id_length)))"
      ],
      "metadata": {
        "id": "tpC-1WmKAcYK"
      },
      "execution_count": null,
      "outputs": []
    },
    {
      "cell_type": "code",
      "source": [
        "\"\"\"\n",
        "num_classes = len(class_names)\n",
        "\n",
        "kernel_size = 3\n",
        "dimensionality_alpha = 16\n",
        "neurons_hidden = 128\n",
        "\n",
        "model = Sequential([\n",
        "  layers.Rescaling(1./255, input_shape=(img_height,\n",
        "                                  img_width,\n",
        "                                  3)),\n",
        "  layers.Conv2D(dimensionality_alpha, 7, padding='same', activation='relu'),\n",
        "  layers.MaxPooling2D(),\n",
        "  layers.Conv2D(2 * dimensionality_alpha, 5, padding='same', activation='relu'),\n",
        "  layers.MaxPooling2D(),\n",
        "  layers.Conv2D(4 * dimensionality_alpha, kernel_size, padding='same', activation='relu'),\n",
        "  layers.MaxPooling2D(),\n",
        "  layers.Flatten(),\n",
        "  layers.Dense(neurons_hidden, activation='relu'),\n",
        "  layers.Dense(num_classes)\n",
        "])\n",
        "\"\"\""
      ],
      "metadata": {
        "id": "qRTVClLN0Y5E",
        "colab": {
          "base_uri": "https://localhost:8080/",
          "height": 71
        },
        "outputId": "34804a87-c97d-417d-be09-f718667bc3d5"
      },
      "execution_count": null,
      "outputs": [
        {
          "output_type": "execute_result",
          "data": {
            "text/plain": [
              "\"\\nnum_classes = len(class_names)\\n\\nkernel_size = 3\\ndimensionality_alpha = 16\\nneurons_hidden = 128\\n\\nmodel = Sequential([\\n  layers.Rescaling(1./255, input_shape=(img_height,\\n                                  img_width,\\n                                  3)),\\n  layers.Conv2D(dimensionality_alpha, 7, padding='same', activation='relu'),\\n  layers.MaxPooling2D(),\\n  layers.Conv2D(2 * dimensionality_alpha, 5, padding='same', activation='relu'),\\n  layers.MaxPooling2D(),\\n  layers.Conv2D(4 * dimensionality_alpha, kernel_size, padding='same', activation='relu'),\\n  layers.MaxPooling2D(),\\n  layers.Flatten(),\\n  layers.Dense(neurons_hidden, activation='relu'),\\n  layers.Dense(num_classes)\\n])\\n\""
            ],
            "application/vnd.google.colaboratory.intrinsic+json": {
              "type": "string"
            }
          },
          "metadata": {},
          "execution_count": 21
        }
      ]
    }
  ]
}