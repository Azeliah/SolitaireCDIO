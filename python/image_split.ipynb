{
 "nbformat": 4,
 "nbformat_minor": 0,
 "metadata": {
  "colab": {
   "name": "image_split",
   "provenance": [],
   "collapsed_sections": []
  },
  "kernelspec": {
   "name": "python3",
   "display_name": "Python 3"
  },
  "language_info": {
   "name": "python"
  }
 },
 "cells": [
  {
   "cell_type": "code",
   "execution_count": 27,
   "metadata": {
    "id": "eDEzoroplvNy",
    "pycharm": {
     "name": "#%%\n"
    }
   },
   "outputs": [],
   "source": [
    "from os import listdir\n",
    "from os.path import isfile, join\n",
    "from PIL import Image\n",
    "import os\n",
    "import math\n"
   ]
  },
  {
   "cell_type": "code",
   "execution_count": 28,
   "outputs": [],
   "source": [
    "def zero_pad_num(num, length):\n",
    "  result_string = num.__str__() + \".jpg\"\n",
    "  pads = length - (math.log(i+1, 10)).__int__()\n",
    "  if pads == 0:\n",
    "    return result_string\n",
    "  for j in range(pads):\n",
    "    result_string = \"0\" + result_string\n",
    "  return result_string\n",
    "\n",
    "base_path = os.getcwd()\n",
    "suit_path = base_path + \"\\\\data\\\\suit\"\n",
    "suit_dst = base_path + \"\\\\data\\\\cropped_suit\"\n",
    "\n",
    "if not os.path.isdir(suit_dst):\n",
    "  os.mkdir(suit_dst)\n",
    "\n",
    "suit_dims = 5, 58, 35, 95 # left, top, right, bottom\n",
    "\n",
    "suit_paths = []\n",
    "suit_labels = []\n",
    "\n",
    "for path in os.listdir(suit_path):\n",
    "    if os.path.isdir(os.path.join(suit_path, path)):\n",
    "        suit_paths.append(os.path.join(suit_path, path))\n",
    "        suit_labels.append(path)\n",
    "\n",
    "for i in range(len(suit_paths)):\n",
    "  path = suit_paths[i]\n",
    "  onlyfiles = [join(path, f) for f in listdir(path) if isfile(join(path, f)) and f != \"desktop.ini\"]\n",
    "\n",
    "  for j in range(len(suit_labels)):\n",
    "    if not os.path.isdir(suit_dst + \"\\\\\" + suit_labels[j]):\n",
    "      os.mkdir(suit_dst + \"\\\\\" + suit_labels[j])\n",
    "  images = []\n",
    "  for file in onlyfiles:\n",
    "    images.append(Image.open(file))\n",
    "\n",
    "  id_length = (math.log(len(images), 10)).__int__()\n",
    "  for j in range(len(images)):\n",
    "    image = images[j].crop(suit_dims)\n",
    "    image.save(join(suit_dst + \"\\\\\" + suit_labels[i], zero_pad_num(j, id_length)))\n",
    "\n",
    "\n",
    "\n",
    "rank_path = base_path + \"\\\\data\\\\rank\"\n",
    "rank_dst = base_path + \"\\\\data\\\\cropped_rank\"\n",
    "rank_dims = 5, 5, 35, 63\n",
    "\n",
    "rank_paths = []\n",
    "rank_labels = []\n",
    "\n",
    "if not os.path.isdir(rank_dst):\n",
    "  os.mkdir(rank_dst)\n",
    "\n",
    "for path in os.listdir(rank_path):\n",
    "    if os.path.isdir(os.path.join(rank_path, path)):\n",
    "        rank_paths.append(os.path.join(rank_path, path))\n",
    "        rank_labels.append(path)\n",
    "\n",
    "for i in range(len(rank_paths)):\n",
    "  path = rank_paths[i]\n",
    "  onlyfiles = [join(path, f) for f in listdir(path) if isfile(join(path, f)) and f != \"desktop.ini\"]\n",
    "  desktop_inis = []\n",
    "  images = []\n",
    "  for file in onlyfiles:\n",
    "    images.append(Image.open(file))\n",
    "\n",
    "  for j in range(len(rank_labels)):\n",
    "    if not os.path.isdir(rank_dst + \"\\\\\" + rank_labels[j]):\n",
    "      os.mkdir(rank_dst + \"\\\\\" + rank_labels[j])\n",
    "\n",
    "  id_length = (math.log(len(images), 10)).__int__()\n",
    "  for j in range(len(images)):\n",
    "    image = images[j].crop(rank_dims)\n",
    "    image.save(join(rank_dst + \"\\\\\" + rank_labels[i], zero_pad_num(j, id_length)))"
   ],
   "metadata": {
    "collapsed": false,
    "pycharm": {
     "name": "#%%\n"
    }
   }
  }
 ]
}