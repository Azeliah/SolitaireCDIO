{
  "nbformat": 4,
  "nbformat_minor": 0,
  "metadata": {
    "colab": {
      "name": "rank_recognition.ipynb",
      "provenance": [],
      "collapsed_sections": []
    },
    "kernelspec": {
      "name": "python3",
      "display_name": "Python 3"
    },
    "language_info": {
      "name": "python"
    }
  },
  "cells": [
    {
      "cell_type": "code",
      "source": [
        "# Makes us able to collect data from Drive.\n",
        "from google.colab import drive\n",
        "drive.mount('/content/drive')"
      ],
      "metadata": {
        "id": "U0vSYxS9r3Fo",
        "colab": {
          "base_uri": "https://localhost:8080/"
        },
        "outputId": "62503126-5b84-452f-89d5-fa4498b0c40f"
      },
      "execution_count": null,
      "outputs": [
        {
          "output_type": "stream",
          "name": "stdout",
          "text": [
            "Drive already mounted at /content/drive; to attempt to forcibly remount, call drive.mount(\"/content/drive\", force_remount=True).\n"
          ]
        }
      ]
    },
    {
      "cell_type": "code",
      "source": [
        "%tensorflow_version 2.x"
      ],
      "metadata": {
        "id": "WSDkSydbuaec"
      },
      "execution_count": null,
      "outputs": []
    },
    {
      "cell_type": "code",
      "execution_count": null,
      "metadata": {
        "id": "eDEzoroplvNy"
      },
      "outputs": [],
      "source": [
        "import matplotlib.pyplot as plt\n",
        "import numpy as np\n",
        "import os\n",
        "import PIL\n",
        "import tensorflow as tf\n",
        "import pathlib\n",
        "\n",
        "from tensorflow import keras,lite\n",
        "from keras import layers\n",
        "from keras.models import Sequential\n"
      ]
    },
    {
      "cell_type": "code",
      "source": [
        "batch_size = 16\n",
        "img_height = 25\n",
        "img_width = 13\n",
        "\n",
        "data_dir = '/content/drive/MyDrive/cropped_rank_sorted/'\n",
        "\n",
        "train_ds = tf.keras.utils.image_dataset_from_directory(\n",
        "    data_dir,\n",
        "    validation_split=0.2,\n",
        "    subset=\"training\",\n",
        "    seed=123,\n",
        "    image_size=(img_height, img_width),\n",
        "    batch_size=batch_size)\n"
      ],
      "metadata": {
        "id": "AVFPwL06vXNm",
        "colab": {
          "base_uri": "https://localhost:8080/"
        },
        "outputId": "459be20d-eb7c-4089-a9d2-05d777a1a8db"
      },
      "execution_count": null,
      "outputs": [
        {
          "output_type": "stream",
          "name": "stdout",
          "text": [
            "Found 1066 files belonging to 13 classes.\n",
            "Using 853 files for training.\n"
          ]
        }
      ]
    },
    {
      "cell_type": "code",
      "source": [
        "val_ds = tf.keras.utils.image_dataset_from_directory(\n",
        "    data_dir,\n",
        "    validation_split=0.2,\n",
        "    subset=\"validation\",\n",
        "    seed=123,\n",
        "    image_size=(img_height, img_width),\n",
        "    batch_size=batch_size)"
      ],
      "metadata": {
        "colab": {
          "base_uri": "https://localhost:8080/"
        },
        "id": "SqqPIzYWxyF7",
        "outputId": "96ae021e-665f-49e1-ebd8-0734f8ea6142"
      },
      "execution_count": null,
      "outputs": [
        {
          "output_type": "stream",
          "name": "stdout",
          "text": [
            "Found 1066 files belonging to 13 classes.\n",
            "Using 213 files for validation.\n"
          ]
        }
      ]
    },
    {
      "cell_type": "code",
      "source": [
        "#See if images are there.\n",
        "plt.figure(figsize=(10, 10))\n",
        "for images, labels in train_ds.take(1):\n",
        "    for i in range(9):\n",
        "        ax = plt.subplot(3, 3, i + 1)\n",
        "        plt.imshow(images[i].numpy().astype(\"uint8\"))\n",
        "        plt.title(int(labels[i]))\n",
        "        plt.axis(\"off\")\n",
        "    break"
      ],
      "metadata": {
        "id": "GGRXoOvOwVEK",
        "colab": {
          "base_uri": "https://localhost:8080/",
          "height": 591
        },
        "outputId": "fff35372-0856-4166-d73d-c1316b388750"
      },
      "execution_count": null,
      "outputs": [
        {
          "output_type": "display_data",
          "data": {
            "text/plain": [
              "<Figure size 720x720 with 9 Axes>"
            ],
            "image/png": "[encoded data removed]"
          },
          "metadata": {
            "needs_background": "light"
          }
        }
      ]
    },
    {
      "cell_type": "code",
      "source": [
        "class_names = ['ace', 'two', 'three', 'four', 'five', 'six', 'seven', 'eight', 'nine', 'ten', 'jack', 'queen', 'king']"
      ],
      "metadata": {
        "id": "-JjBHupzyjT3"
      },
      "execution_count": null,
      "outputs": []
    },
    {
      "cell_type": "code",
      "source": [
        "for image_batch, labels_batch in train_ds:\n",
        "  print(image_batch.shape)\n",
        "  print(labels_batch.shape)\n",
        "  break\n"
      ],
      "metadata": {
        "colab": {
          "base_uri": "https://localhost:8080/"
        },
        "id": "ejUgSgutzKgc",
        "outputId": "bd40ff20-a8d5-4084-fefb-9002f1f163cb"
      },
      "execution_count": null,
      "outputs": [
        {
          "output_type": "stream",
          "name": "stdout",
          "text": [
            "(16, 25, 13, 3)\n",
            "(16,)\n"
          ]
        }
      ]
    },
    {
      "cell_type": "code",
      "source": [
        "autotune = tf.data.AUTOTUNE\n",
        "\n",
        "train_ds = train_ds.cache().shuffle(1000).prefetch(buffer_size=autotune)\n",
        "val_ds = val_ds.cache().prefetch(buffer_size=autotune)"
      ],
      "metadata": {
        "id": "K8mr5zj9zWm6"
      },
      "execution_count": null,
      "outputs": []
    },
    {
      "cell_type": "code",
      "source": [
        "num_classes = len(class_names)\n",
        "\n",
        "model = Sequential([\n",
        "  layers.Rescaling(1./255, input_shape=(img_height,\n",
        "                                  img_width,\n",
        "                                  3)),\n",
        "  layers.Conv2D(16, 3, padding='same', activation='relu'),\n",
        "  layers.MaxPooling2D(),\n",
        "  layers.Conv2D(32, 3, padding='same', activation='relu'),\n",
        "  layers.MaxPooling2D(),\n",
        "  layers.Conv2D(64, 3, padding='same', activation='relu'),\n",
        "  layers.MaxPooling2D(),\n",
        "  layers.Flatten(),\n",
        "  layers.Dense(128, activation='relu'),\n",
        "  layers.Dense(num_classes)\n",
        "])"
      ],
      "metadata": {
        "id": "qRTVClLN0Y5E"
      },
      "execution_count": null,
      "outputs": []
    },
    {
      "cell_type": "code",
      "source": [
        "model.compile(optimizer='adam',\n",
        "              loss=tf.keras.losses.SparseCategoricalCrossentropy(from_logits=True),\n",
        "              metrics=['accuracy'])\n"
      ],
      "metadata": {
        "id": "V6SMUK5K1p1D"
      },
      "execution_count": null,
      "outputs": []
    },
    {
      "cell_type": "code",
      "source": [
        "model.summary()"
      ],
      "metadata": {
        "id": "CCaiY3692Hes",
        "colab": {
          "base_uri": "https://localhost:8080/"
        },
        "outputId": "6a089876-be54-4db6-d795-35bf2e26c9f8"
      },
      "execution_count": null,
      "outputs": [
        {
          "output_type": "stream",
          "name": "stdout",
          "text": [
            "Model: \"sequential_2\"\n",
            "_________________________________________________________________\n",
            " Layer (type)                Output Shape              Param #   \n",
            "=================================================================\n",
            " rescaling_2 (Rescaling)     (None, 25, 13, 3)         0         \n",
            "                                                                 \n",
            " conv2d_6 (Conv2D)           (None, 25, 13, 16)        448       \n",
            "                                                                 \n",
            " max_pooling2d_6 (MaxPooling  (None, 12, 6, 16)        0         \n",
            " 2D)                                                             \n",
            "                                                                 \n",
            " conv2d_7 (Conv2D)           (None, 12, 6, 32)         4640      \n",
            "                                                                 \n",
            " max_pooling2d_7 (MaxPooling  (None, 6, 3, 32)         0         \n",
            " 2D)                                                             \n",
            "                                                                 \n",
            " conv2d_8 (Conv2D)           (None, 6, 3, 64)          18496     \n",
            "                                                                 \n",
            " max_pooling2d_8 (MaxPooling  (None, 3, 1, 64)         0         \n",
            " 2D)                                                             \n",
            "                                                                 \n",
            " flatten_2 (Flatten)         (None, 192)               0         \n",
            "                                                                 \n",
            " dense_4 (Dense)             (None, 128)               24704     \n",
            "                                                                 \n",
            " dense_5 (Dense)             (None, 13)                1677      \n",
            "                                                                 \n",
            "=================================================================\n",
            "Total params: 49,965\n",
            "Trainable params: 49,965\n",
            "Non-trainable params: 0\n",
            "_________________________________________________________________\n"
          ]
        }
      ]
    },
    {
      "cell_type": "code",
      "source": [
        "epochs = 8\n",
        "history = model.fit(\n",
        "    train_ds,\n",
        "    validation_data=val_ds,\n",
        "    epochs=epochs\n",
        ")"
      ],
      "metadata": {
        "colab": {
          "base_uri": "https://localhost:8080/"
        },
        "id": "V7HuBD3y2TTB",
        "outputId": "6c405b72-c41c-497c-c758-93bb48e096cb"
      },
      "execution_count": null,
      "outputs": [
        {
          "output_type": "stream",
          "name": "stdout",
          "text": [
            "Epoch 1/8\n",
            "54/54 [==============================] - 2s 16ms/step - loss: 2.5132 - accuracy: 0.1712 - val_loss: 2.2882 - val_accuracy: 0.4085\n",
            "Epoch 2/8\n",
            "54/54 [==============================] - 0s 9ms/step - loss: 1.5143 - accuracy: 0.5979 - val_loss: 0.7733 - val_accuracy: 0.7981\n",
            "Epoch 3/8\n",
            "54/54 [==============================] - 1s 9ms/step - loss: 0.5383 - accuracy: 0.8652 - val_loss: 0.4150 - val_accuracy: 0.8920\n",
            "Epoch 4/8\n",
            "54/54 [==============================] - 1s 10ms/step - loss: 0.2949 - accuracy: 0.9273 - val_loss: 0.2964 - val_accuracy: 0.9296\n",
            "Epoch 5/8\n",
            "54/54 [==============================] - 0s 9ms/step - loss: 0.1962 - accuracy: 0.9519 - val_loss: 0.1995 - val_accuracy: 0.9437\n",
            "Epoch 6/8\n",
            "54/54 [==============================] - 0s 9ms/step - loss: 0.1145 - accuracy: 0.9754 - val_loss: 0.1685 - val_accuracy: 0.9577\n",
            "Epoch 7/8\n",
            "54/54 [==============================] - 0s 9ms/step - loss: 0.0913 - accuracy: 0.9812 - val_loss: 0.1561 - val_accuracy: 0.9484\n",
            "Epoch 8/8\n",
            "54/54 [==============================] - 1s 10ms/step - loss: 0.0539 - accuracy: 0.9894 - val_loss: 0.1036 - val_accuracy: 0.9671\n"
          ]
        }
      ]
    },
    {
      "cell_type": "code",
      "source": [
        "acc = history.history['accuracy']\n",
        "val_acc = history.history['val_accuracy']\n",
        "\n",
        "loss = history.history['loss']\n",
        "val_loss = history.history['val_loss']\n",
        "\n",
        "epochs_range = range(epochs)\n",
        "\n",
        "plt.figure(figsize=(8, 8))\n",
        "plt.subplot(1, 2, 1)\n",
        "plt.plot(epochs_range, acc, label='Training Accuracy')\n",
        "plt.plot(epochs_range, val_acc, label='Validation Accuracy')\n",
        "plt.legend(loc='lower right')\n",
        "plt.title('Training and Validation Accuracy')\n",
        "\n",
        "plt.subplot(1, 2, 2)\n",
        "plt.plot(epochs_range, loss, label='Training Loss')\n",
        "plt.plot(epochs_range, val_loss, label='Validation Loss')\n",
        "plt.legend(loc='upper right')\n",
        "plt.title('Training and Validation Loss')\n",
        "plt.show()\n"
      ],
      "metadata": {
        "colab": {
          "base_uri": "https://localhost:8080/",
          "height": 499
        },
        "id": "RyLCHrUk3Hsy",
        "outputId": "c545d7ae-12eb-4682-c72c-93d42bddb1e3"
      },
      "execution_count": null,
      "outputs": [
        {
          "output_type": "display_data",
          "data": {
            "text/plain": [
              "<Figure size 576x576 with 2 Axes>"
            ],
            "image/png": "[encoded data removed]"
          },
          "metadata": {
            "needs_background": "light"
          }
        }
      ]
    },
    {
      "cell_type": "code",
      "source": [
        "\n",
        "files_to_guess = ['/content/drive/MyDrive/test_images_rank/ace.jpg',\n",
        "                  '/content/drive/MyDrive/test_images_rank/two.jpg',\n",
        "                  '/content/drive/MyDrive/test_images_rank/two_1.jpg',\n",
        "                  '/content/drive/MyDrive/test_images_rank/two_2.jpg',\n",
        "                  # '/content/drive/MyDrive/test_images_rank/three.jpg',\n",
        "                  # '/content/drive/MyDrive/test_images_rank/four.jpg',\n",
        "                 # '/content/drive/MyDrive/test_images_rank/five.jpg',\n",
        "                  '/content/drive/MyDrive/test_images_rank/six.jpg',\n",
        "                  # '/content/drive/MyDrive/test_images_rank/seven.jpg',\n",
        "                  # '/content/drive/MyDrive/test_images_rank/eight.jpg',\n",
        "                  # '/content/drive/MyDrive/test_images_rank/nine.jpg',\n",
        "                  # '/content/drive/MyDrive/test_images_rank/ten.jpg',\n",
        "                  # '/content/drive/MyDrive/test_images_rank/jack.jpg',\n",
        "                  # '/content/drive/MyDrive/test_images_rank/queen.jpg',\n",
        "                  # '/content/drive/MyDrive/test_images_rank/king.jpg'\n",
        "                  ]\n",
        "\n",
        "for path in files_to_guess:\n",
        "  img = tf.keras.utils.load_img(\n",
        "    path, target_size=(img_height, img_width)\n",
        "  )\n",
        "  img_array = tf.keras.utils.img_to_array(img)\n",
        "  img_array = tf.expand_dims(img_array, 0) # Create a batch\n",
        "\n",
        "  predictions = model.predict(img_array)\n",
        "  score = tf.nn.softmax(predictions[0])\n",
        "  print(path)\n",
        "  print(\n",
        "      \"This image most likely belongs to {} with a {:.2f} percent confidence.\"\n",
        "      .format(class_names[np.argmax(score)], 100 * np.max(score))\n",
        "  )\n"
      ],
      "metadata": {
        "colab": {
          "base_uri": "https://localhost:8080/"
        },
        "id": "sgJyZEuv89zK",
        "outputId": "d43bb03e-3eec-4bd8-8f3f-e9b46031e91d"
      },
      "execution_count": null,
      "outputs": [
        {
          "output_type": "stream",
          "name": "stdout",
          "text": [
            "/content/drive/MyDrive/test_images_rank/ace.jpg\n",
            "This image most likely belongs to ace with a 95.03 percent confidence.\n",
            "/content/drive/MyDrive/test_images_rank/two.jpg\n",
            "This image most likely belongs to four with a 28.25 percent confidence.\n",
            "/content/drive/MyDrive/test_images_rank/two_1.jpg\n",
            "This image most likely belongs to two with a 87.45 percent confidence.\n",
            "/content/drive/MyDrive/test_images_rank/two_2.jpg\n",
            "This image most likely belongs to two with a 53.86 percent confidence.\n",
            "/content/drive/MyDrive/test_images_rank/six.jpg\n",
            "This image most likely belongs to six with a 97.20 percent confidence.\n"
          ]
        }
      ]
    },
    {
      "cell_type": "code",
      "source": [
        "model.save(r\"/content/drive/MyDrive/CDIO F22/ML modeller/rank_model\")"
      ],
      "metadata": {
        "colab": {
          "base_uri": "https://localhost:8080/"
        },
        "id": "POimBBliU6e3",
        "outputId": "34a1c4a4-4961-42f1-dd25-e911056eee2d"
      },
      "execution_count": null,
      "outputs": [
        {
          "output_type": "stream",
          "name": "stdout",
          "text": [
            "INFO:tensorflow:Assets written to: /content/drive/MyDrive/CDIO F22/ML modeller/rank_model/assets\n"
          ]
        },
        {
          "output_type": "stream",
          "name": "stderr",
          "text": [
            "INFO:tensorflow:Assets written to: /content/drive/MyDrive/CDIO F22/ML modeller/rank_model/assets\n"
          ]
        }
      ]
    },
    {
      "cell_type": "code",
      "source": [
        "converter = tf.lite.TFLiteConverter.from_saved_model(r\"/content/drive/MyDrive/CDIO F22/ML modeller/rank_model\")\n",
        "tflite_model = converter.convert()\n",
        "\n",
        "with open(r\"/content/drive/MyDrive/CDIO F22/ML modeller/tflite_rank_model.tflite\", 'wb') as f:\n",
        "  f.write(tflite_model)\n",
        "\n"
      ],
      "metadata": {
        "colab": {
          "base_uri": "https://localhost:8080/"
        },
        "id": "MpWjY4uHdwzs",
        "outputId": "a3eac20c-8f36-4b3f-fc31-e8cfa15ac593"
      },
      "execution_count": null,
      "outputs": [
        {
          "output_type": "stream",
          "name": "stderr",
          "text": [
            "WARNING:absl:Buffer deduplication procedure will be skipped when flatbuffer library is not properly loaded\n"
          ]
        }
      ]
    },
    {
      "cell_type": "code",
      "source": [
        "  keras_file = \"/content/drive/MyDrive/CDIO F22/ML modeller/keras/rank.h5\"\n",
        "  tf.keras.models.save_model(model,keras_file)\n",
        "  converter = lite.TFLiteConverter.from_keras_model(model)\n",
        "  tfmodel = converter.convert()\n",
        "\n",
        "  open(\"/content/drive/MyDrive/CDIO F22/ML modeller/keras/rank.tflite\",\"wb\").write(tfmodel)"
      ],
      "metadata": {
        "colab": {
          "base_uri": "https://localhost:8080/"
        },
        "id": "x6qKh89ooCnG",
        "outputId": "db9d4ab3-aa80-4f20-930f-5d7989042e51"
      },
      "execution_count": null,
      "outputs": [
        {
          "output_type": "stream",
          "name": "stdout",
          "text": [
            "INFO:tensorflow:Assets written to: /tmp/tmp8bl7z2yj/assets\n"
          ]
        },
        {
          "output_type": "stream",
          "name": "stderr",
          "text": [
            "INFO:tensorflow:Assets written to: /tmp/tmp8bl7z2yj/assets\n",
            "WARNING:absl:Buffer deduplication procedure will be skipped when flatbuffer library is not properly loaded\n"
          ]
        },
        {
          "output_type": "execute_result",
          "data": {
            "text/plain": [
              "203428"
            ]
          },
          "metadata": {},
          "execution_count": 56
        }
      ]
    }
  ]
}